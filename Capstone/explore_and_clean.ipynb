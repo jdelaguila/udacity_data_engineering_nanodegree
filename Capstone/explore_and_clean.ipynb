{
 "cells": [
  {
   "cell_type": "code",
   "execution_count": 1,
   "metadata": {
    "editable": true
   },
   "outputs": [
    {
     "name": "stdout",
     "output_type": "stream",
     "text": [
      "Completed, ran successfully\n"
     ]
    }
   ],
   "source": [
    "import os\n",
    "# from pyspark.sql import SparkSession\n",
    "\n",
    "# import configparser\n",
    "# config = configparser.ConfigParser()\n",
    "# config.read_file(open('cluster.config'))\n",
    "\n",
    "# spark = SparkSession.builder.getOrCreate()\n",
    "from pyspark.sql import SparkSession\n",
    "os.environ[\"JAVA_HOME\"] = \"/usr/lib/jvm/java-8-openjdk-amd64\"\n",
    "os.environ[\"PATH\"] = \"/opt/conda/bin:/opt/spark-2.4.3-bin-hadoop2.7/bin:/opt/conda/bin:/usr/local/sbin:/usr/local/bin:/usr/sbin:/usr/bin:/sbin:/bin:/usr/lib/jvm/java-8-openjdk-amd64/bin\"\n",
    "os.environ[\"SPARK_HOME\"] = \"/opt/spark-2.4.3-bin-hadoop2.7\"\n",
    "os.environ[\"HADOOP_HOME\"] = \"/opt/spark-2.4.3-bin-hadoop2.7\"\n",
    "\n",
    "# print(config['AWS']['KEY'])\n",
    "\n",
    "# os.environ['AWS_ACCESS_KEY_ID']=config['AWS']['AWS_ACCESS_KEY_ID']\n",
    "# os.environ['AWS_SECRET_ACCESS_KEY']=config['AWS']['AWS_SECRET_ACCESS_KEY']\n",
    "\n",
    "# AWS_ACCESS_KEY_ID = config['AWS']['KEY']\n",
    "# AWS_SECRET_ACCESS_KEY = config['AWS']['SECRET']\n",
    "\n",
    "spark = SparkSession.builder\\\n",
    ".config(\"spark.jars.packages\",\"saurfang:spark-sas7bdat:2.0.0-s_2.11\")\\\n",
    ".config(\"spark.jars.repositories\", \"https://repos.spark-packages.org/\")\\\n",
    ".enableHiveSupport().getOrCreate()\n",
    "\n",
    "\n",
    "\n",
    "# spark = SparkSession.builder\\\n",
    "# .config(\"spark.jars.packages\",\"saurfang:spark-sas7bdat:2.0.0-s_2.11\")\\\n",
    "# .config(\"spark.jars.repositories\", \"https://repos.spark-packages.org/\")\\\n",
    "# .config(\"spark.hadoop.fs.s3a.impl\",\"org.apache.hadoop.fs.s3a.S3AFileSystem\")\\\n",
    "# .enableHiveSupport().getOrCreate()\n",
    "\n",
    "# sc = spark.sparkContext\n",
    "# sc._jsc.hadoopConfiguration().set(\"fs.s3.access.key\", AWS_ACCESS_KEY_ID)\n",
    "# sc._jsc.hadoopConfiguration().set(\"fs.s3.secret.key\", AWS_SECRET_ACCESS_KEY)\n",
    "\n",
    "df_spark =spark.read.load('./sas_data')\n",
    "print(\"Completed, ran successfully\")"
   ]
  },
  {
   "cell_type": "code",
   "execution_count": 2,
   "metadata": {
    "editable": true
   },
   "outputs": [],
   "source": [
    "# spark = SparkSession.builder.config(\"spark.hadoop.fs.s3a.impl\",\"org.apache.hadoop.fs.s3a.S3AFileSystem\").getOrCreate()\n"
   ]
  },
  {
   "cell_type": "code",
   "execution_count": 3,
   "metadata": {
    "editable": true
   },
   "outputs": [],
   "source": [
    "df_spark.createOrReplaceTempView(\"imm_table_1\")"
   ]
  },
  {
   "cell_type": "code",
   "execution_count": 4,
   "metadata": {
    "editable": true
   },
   "outputs": [],
   "source": [
    "immigration_df = spark.sql('SELECT cicid AS cicid, \\\n",
    "                          i94yr AS year, \\\n",
    "                          i94mon AS month, \\\n",
    "                          i94cit AS country_code1, \\\n",
    "                          i94res AS country_code2, \\\n",
    "                          i94port AS port_of_entry, \\\n",
    "                          date_add(\"1960-01-01\", arrdate) AS arrival_date, \\\n",
    "                          i94mode AS mode_of_arrival, \\\n",
    "                          i94addr AS state_or_terr, \\\n",
    "                          date_add(\"1960-01-01\", depdate) AS departure_date, \\\n",
    "                          i94bir AS age, \\\n",
    "                          i94visa AS VISA, \\\n",
    "                          occup AS occupation, \\\n",
    "                          entdepa AS arrival_flag, \\\n",
    "                          entdepd AS departure_flag, \\\n",
    "                          entdepu AS update_flag, \\\n",
    "                          matflag AS match_flag, \\\n",
    "                          biryear AS birth_year, \\\n",
    "                          to_date(dtaddto, \"MMddyyy\") AS date_added, \\\n",
    "                          gender AS gender, \\\n",
    "                          insnum AS ins_number, \\\n",
    "                          airline AS incoming_airline, \\\n",
    "                          admnum AS admission_number, \\\n",
    "                          fltno AS flight_number, \\\n",
    "                          visatype AS visa_type \\\n",
    "                          FROM imm_table_1')"
   ]
  },
  {
   "cell_type": "code",
   "execution_count": 5,
   "metadata": {
    "editable": true
   },
   "outputs": [],
   "source": [
    "from pyspark.sql.types import IntegerType, DoubleType"
   ]
  },
  {
   "cell_type": "code",
   "execution_count": 6,
   "metadata": {
    "editable": true
   },
   "outputs": [],
   "source": [
    "imm_df = immigration_df.withColumn('country_code1', immigration_df.country_code1.cast(IntegerType()))\\\n",
    "                       .withColumn('country_code2', immigration_df.country_code2.cast(IntegerType()))\\\n",
    "                       .withColumn('cicid', immigration_df.cicid.cast(IntegerType()))\\\n",
    "                       .withColumn('year', immigration_df.year.cast(IntegerType()))\\\n",
    "                       .withColumn('month', immigration_df.month.cast(IntegerType()))\\\n",
    "                       .withColumn('mode_of_arrival', immigration_df.mode_of_arrival.cast(IntegerType()))\\\n",
    "                       .withColumn('age', immigration_df.age.cast(IntegerType()))\\\n",
    "                       .withColumn('VISA', immigration_df.VISA.cast(IntegerType()))\\\n",
    "                       .withColumn('birth_year', immigration_df.birth_year.cast(IntegerType()))"
   ]
  },
  {
   "cell_type": "code",
   "execution_count": 7,
   "metadata": {
    "editable": true
   },
   "outputs": [],
   "source": [
    "imm_df.createOrReplaceTempView('imm_clean_col')"
   ]
  },
  {
   "cell_type": "code",
   "execution_count": 8,
   "metadata": {
    "editable": true
   },
   "outputs": [
    {
     "name": "stdout",
     "output_type": "stream",
     "text": [
      "+----+-----+----+-------+---------+-----+-----+-------+--------+--------+-----+-------+-------------+-----------------+------------------+------------------+--------------+-----------------+----------------+-------------+------------+----------------+------------+------------------+\n",
      "|  st|   uf|  ci|year_pc|month_pcn|cc1_p|cc2_p|arrdate|modearr_|deptdate|age_p|VISA_pc|occ_pcnt_null|arrflag_pcnt_null|deptflag_pcnt_null|matchflg_pcnt_null|brth_pcnt_null|dateadd_pcnt_null|gender_pcnt_null|ins_pcnt_null|al_pcnt_null|admnum_pcnt_null|fn_pcnt_null|visatype_pcnt_null|\n",
      "+----+-----+----+-------+---------+-----+-----+-------+--------+--------+-----+-------+-------------+-----------------+------------------+------------------+--------------+-----------------+----------------+-------------+------------+----------------+------------+------------------+\n",
      "|4.93|99.99|0.00|   0.00|     0.00| 0.00| 0.00|   0.00|    0.01|    4.60| 0.03|   0.00|        99.74|             0.01|              4.47|              4.47|          0.03|             1.48|           13.38|        96.33|        2.70|            0.00|        0.63|              0.00|\n",
      "+----+-----+----+-------+---------+-----+-----+-------+--------+--------+-----+-------+-------------+-----------------+------------------+------------------+--------------+-----------------+----------------+-------------+------------+----------------+------------+------------------+\n",
      "\n"
     ]
    }
   ],
   "source": [
    "null_df = spark.sql(\"SELECT cast(((COUNT(*) - COUNT(state_or_terr)) / COUNT(*)) * 100 AS decimal(5,2)) AS st, \\\n",
    "                     cast(((COUNT(*) - COUNT(update_flag)) / COUNT(*)) * 100 AS decimal(5,2)) AS uf, \\\n",
    "                     cast(((COUNT(*) - COUNT(cicid)) / COUNT(*)) * 100 AS decimal(5,2)) AS ci, \\\n",
    "                     cast(((COUNT(*) - COUNT(year)) / COUNT(*)) * 100 AS decimal(5,2)) AS year_pc, \\\n",
    "                     cast(((COUNT(*) - COUNT(month)) / COUNT(*)) * 100 AS decimal(5,2)) AS month_pcn, \\\n",
    "                     cast(((COUNT(*) - COUNT(country_code1)) / COUNT(*)) * 100 AS decimal(5,2)) AS cc1_p, \\\n",
    "                     cast(((COUNT(*) - COUNT(country_code2)) / COUNT(*)) * 100 AS decimal(5,2)) AS cc2_p, \\\n",
    "                     cast(((COUNT(*) - COUNT(arrival_date)) / COUNT(*)) * 100 AS decimal(5,2)) AS arrdate, \\\n",
    "                     cast(((COUNT(*) - COUNT(mode_of_arrival)) / COUNT(*)) * 100 AS decimal(5,2)) AS modearr_, \\\n",
    "                     cast(((COUNT(*) - COUNT(departure_date)) / COUNT(*)) * 100 AS decimal(5,2)) AS deptdate, \\\n",
    "                     cast(((COUNT(*) - COUNT(age)) / COUNT(*)) * 100 AS decimal(5,2)) AS age_p, \\\n",
    "                     cast(((COUNT(*) - COUNT(VISA)) / COUNT(*)) * 100 AS decimal(5,2)) AS VISA_pc, \\\n",
    "                     cast(((COUNT(*) - COUNT(occupation)) / COUNT(*)) * 100 AS decimal(5,2)) AS occ_pcnt_null, \\\n",
    "                     cast(((COUNT(*) - COUNT(arrival_flag)) / COUNT(*)) * 100 AS decimal(5,2)) AS arrflag_pcnt_null, \\\n",
    "                     cast(((COUNT(*) - COUNT(departure_flag)) / COUNT(*)) * 100 AS decimal(5,2)) AS deptflag_pcnt_null, \\\n",
    "                     cast(((COUNT(*) - COUNT(match_flag)) / COUNT(*)) * 100 AS decimal(5,2)) AS matchflg_pcnt_null, \\\n",
    "                     cast(((COUNT(*) - COUNT(birth_year)) / COUNT(*)) * 100 AS decimal(5,2)) AS brth_pcnt_null, \\\n",
    "                     cast(((COUNT(*) - COUNT(date_added)) / COUNT(*)) * 100 AS decimal(5,2)) AS dateadd_pcnt_null, \\\n",
    "                     cast(((COUNT(*) - COUNT(gender)) / COUNT(*)) * 100 AS decimal(5,2)) AS gender_pcnt_null, \\\n",
    "                     cast(((COUNT(*) - COUNT(ins_number)) / COUNT(*)) * 100 AS decimal(5,2)) AS ins_pcnt_null, \\\n",
    "                     cast(((COUNT(*) - COUNT(incoming_airline)) / COUNT(*)) * 100 AS decimal(5,2)) AS al_pcnt_null, \\\n",
    "                     cast(((COUNT(*) - COUNT(admission_number)) / COUNT(*)) * 100 AS decimal(5,2)) AS admnum_pcnt_null, \\\n",
    "                     cast(((COUNT(*) - COUNT(flight_number)) / COUNT(*)) * 100 AS decimal(5,2)) AS fn_pcnt_null, \\\n",
    "                     cast(((COUNT(*) - COUNT(visa_type)) / COUNT(*)) * 100 AS decimal(5,2)) AS visatype_pcnt_null \\\n",
    "                     FROM imm_clean_col\")\n",
    "\n",
    "null_df.show()"
   ]
  },
  {
   "cell_type": "code",
   "execution_count": 9,
   "metadata": {
    "editable": true
   },
   "outputs": [
    {
     "name": "stdout",
     "output_type": "stream",
     "text": [
      "+-------+----+-----+-------------+-------------+-------------+------------+---------------+-------------+--------------+---+----+----------+------------+--------------+-----------+----------+----------+----------+------+----------+----------------+----------------+-------------+---------+\n",
      "|  cicid|year|month|country_code1|country_code2|port_of_entry|arrival_date|mode_of_arrival|state_or_terr|departure_date|age|VISA|occupation|arrival_flag|departure_flag|update_flag|match_flag|birth_year|date_added|gender|ins_number|incoming_airline|admission_number|flight_number|visa_type|\n",
      "+-------+----+-----+-------------+-------------+-------------+------------+---------------+-------------+--------------+---+----+----------+------------+--------------+-----------+----------+----------+----------+------+----------+----------------+----------------+-------------+---------+\n",
      "|5748517|2016|    4|          245|          438|          LOS|  2016-04-30|              1|           CA|    2016-05-08| 40|   1|      null|           G|             O|       null|         M|      1976|2016-10-29|     F|      null|              QF|  9.495387003E10|        00011|       B1|\n",
      "|5748518|2016|    4|          245|          438|          LOS|  2016-04-30|              1|           NV|    2016-05-17| 32|   1|      null|           G|             O|       null|         M|      1984|2016-10-29|     F|      null|              VA|  9.495562283E10|        00007|       B1|\n",
      "|5748519|2016|    4|          245|          438|          LOS|  2016-04-30|              1|           WA|    2016-05-08| 29|   1|      null|           G|             O|       null|         M|      1987|2016-10-29|     M|      null|              DL|  9.495640653E10|        00040|       B1|\n",
      "|5748520|2016|    4|          245|          438|          LOS|  2016-04-30|              1|           WA|    2016-05-14| 29|   1|      null|           G|             O|       null|         M|      1987|2016-10-29|     F|      null|              DL|  9.495645143E10|        00040|       B1|\n",
      "|5748521|2016|    4|          245|          438|          LOS|  2016-04-30|              1|           WA|    2016-05-14| 28|   1|      null|           G|             O|       null|         M|      1988|2016-10-29|     M|      null|              DL|  9.495638813E10|        00040|       B1|\n",
      "|5748522|2016|    4|          245|          464|          HHW|  2016-04-30|              1|           HI|    2016-05-05| 57|   2|      null|           G|             O|       null|         M|      1959|2016-10-29|     M|      null|              NZ|  9.498180283E10|        00010|       B2|\n",
      "|5748523|2016|    4|          245|          464|          HHW|  2016-04-30|              1|           HI|    2016-05-12| 66|   2|      null|           G|             O|       null|         M|      1950|2016-10-29|     F|      null|              NZ|  9.497968993E10|        00010|       B2|\n",
      "|5748524|2016|    4|          245|          464|          HHW|  2016-04-30|              1|           HI|    2016-05-12| 41|   2|      null|           G|             O|       null|         M|      1975|2016-10-29|     F|      null|              NZ|  9.497974673E10|        00010|       B2|\n",
      "|5748525|2016|    4|          245|          464|          HOU|  2016-04-30|              1|           FL|    2016-05-07| 27|   2|      null|           G|             O|       null|         M|      1989|2016-10-29|     M|      null|              NZ|  9.497324663E10|        00028|       B2|\n",
      "|5748526|2016|    4|          245|          464|          LOS|  2016-04-30|              1|           CA|    2016-05-07| 26|   2|      null|           G|             O|       null|         M|      1990|2016-10-29|     F|      null|              NZ|  9.501354793E10|        00002|       B2|\n",
      "|5748527|2016|    4|          245|          504|          NEW|  2016-04-30|              1|           MA|    2016-05-02| 44|   2|      null|           G|             O|       null|         M|      1972|2016-10-29|     M|      null|              UA|  9.493828593E10|        01215|       B2|\n",
      "|5748528|2016|    4|          245|          504|          LOS|  2016-04-30|              1|         null|    2016-05-01| 39|   2|      null|           G|             O|       null|         M|      1977|2016-10-29|     M|      null|              CM|  9.501810463E10|        00472|       B2|\n",
      "|5748529|2016|    4|          245|          504|          WAS|  2016-04-30|              1|           VA|    2016-05-22| 38|   2|      null|           G|             O|       null|         M|      1978|2016-10-29|     M|      null|              CM|  9.492489983E10|        00488|       B2|\n",
      "|5748530|2016|    4|          245|          504|          LOS|  2016-04-30|              1|           CA|    2016-05-03| 56|   2|      null|           G|             O|       null|         M|      1960|2016-10-29|     F|      null|              CM|  9.492648103E10|        00302|       B2|\n",
      "|5748531|2016|    4|          245|          504|          LOS|  2016-04-30|              1|           CA|    2016-05-03| 38|   2|      null|           G|             O|       null|         M|      1978|2016-10-28|     M|      null|              CM|  9.492629303E10|        00302|       B2|\n",
      "|5748532|2016|    4|          245|          504|          MIA|  2016-04-30|              1|           FL|    2016-05-07| 53|   2|      null|           G|             O|       null|         M|      1963|2016-10-29|     F|      null|              CM|  9.500640513E10|        00430|       B2|\n",
      "|5748534|2016|    4|          245|          528|          SFR|  2016-04-30|              1|           CA|          null| 84|   2|      null|           G|          null|       null|      null|      1932|2016-10-28|     F|      null|              CX|  9.492476223E10|        00872|       B2|\n",
      "|5748876|2016|    4|          245|          582|          HOU|  2016-04-30|              1|           TX|    2016-05-09| 43|   1|      null|           G|             O|       null|         M|      1973|2016-10-29|     M|      null|              UA|  9.499463063E10|        05574|       B1|\n",
      "|5748877|2016|    4|          245|          582|          HOU|  2016-04-30|              1|           TX|    2016-05-09| 30|   1|      null|           G|             O|       null|         M|      1986|2016-10-29|     F|      null|              UA|  9.499447663E10|        05574|       B1|\n",
      "|5748881|2016|    4|          245|          582|          LOS|  2016-04-30|              1|           CA|    2016-05-01| 34|   2|      null|           G|             O|       null|         M|      1982|2016-10-29|     M|      null|              AM|  9.496770903E10|        00646|       B2|\n",
      "+-------+----+-----+-------------+-------------+-------------+------------+---------------+-------------+--------------+---+----+----------+------------+--------------+-----------+----------+----------+----------+------+----------+----------------+----------------+-------------+---------+\n",
      "only showing top 20 rows\n",
      "\n"
     ]
    }
   ],
   "source": [
    "imm_df.show()"
   ]
  },
  {
   "cell_type": "code",
   "execution_count": 10,
   "metadata": {
    "editable": true
   },
   "outputs": [],
   "source": [
    "imm_df_final = imm_df.drop('occupation', 'update_flag', 'ins_number')"
   ]
  },
  {
   "cell_type": "code",
   "execution_count": 11,
   "metadata": {
    "editable": true
   },
   "outputs": [
    {
     "name": "stdout",
     "output_type": "stream",
     "text": [
      "+-------+----+-----+-------------+-------------+-------------+------------+---------------+-------------+--------------+---+----+------------+--------------+----------+----------+----------+------+----------------+----------------+-------------+---------+\n",
      "|  cicid|year|month|country_code1|country_code2|port_of_entry|arrival_date|mode_of_arrival|state_or_terr|departure_date|age|VISA|arrival_flag|departure_flag|match_flag|birth_year|date_added|gender|incoming_airline|admission_number|flight_number|visa_type|\n",
      "+-------+----+-----+-------------+-------------+-------------+------------+---------------+-------------+--------------+---+----+------------+--------------+----------+----------+----------+------+----------------+----------------+-------------+---------+\n",
      "|5748517|2016|    4|          245|          438|          LOS|  2016-04-30|              1|           CA|    2016-05-08| 40|   1|           G|             O|         M|      1976|2016-10-29|     F|              QF|  9.495387003E10|        00011|       B1|\n",
      "|5748518|2016|    4|          245|          438|          LOS|  2016-04-30|              1|           NV|    2016-05-17| 32|   1|           G|             O|         M|      1984|2016-10-29|     F|              VA|  9.495562283E10|        00007|       B1|\n",
      "|5748519|2016|    4|          245|          438|          LOS|  2016-04-30|              1|           WA|    2016-05-08| 29|   1|           G|             O|         M|      1987|2016-10-29|     M|              DL|  9.495640653E10|        00040|       B1|\n",
      "|5748520|2016|    4|          245|          438|          LOS|  2016-04-30|              1|           WA|    2016-05-14| 29|   1|           G|             O|         M|      1987|2016-10-29|     F|              DL|  9.495645143E10|        00040|       B1|\n",
      "|5748521|2016|    4|          245|          438|          LOS|  2016-04-30|              1|           WA|    2016-05-14| 28|   1|           G|             O|         M|      1988|2016-10-29|     M|              DL|  9.495638813E10|        00040|       B1|\n",
      "|5748522|2016|    4|          245|          464|          HHW|  2016-04-30|              1|           HI|    2016-05-05| 57|   2|           G|             O|         M|      1959|2016-10-29|     M|              NZ|  9.498180283E10|        00010|       B2|\n",
      "|5748523|2016|    4|          245|          464|          HHW|  2016-04-30|              1|           HI|    2016-05-12| 66|   2|           G|             O|         M|      1950|2016-10-29|     F|              NZ|  9.497968993E10|        00010|       B2|\n",
      "|5748524|2016|    4|          245|          464|          HHW|  2016-04-30|              1|           HI|    2016-05-12| 41|   2|           G|             O|         M|      1975|2016-10-29|     F|              NZ|  9.497974673E10|        00010|       B2|\n",
      "|5748525|2016|    4|          245|          464|          HOU|  2016-04-30|              1|           FL|    2016-05-07| 27|   2|           G|             O|         M|      1989|2016-10-29|     M|              NZ|  9.497324663E10|        00028|       B2|\n",
      "|5748526|2016|    4|          245|          464|          LOS|  2016-04-30|              1|           CA|    2016-05-07| 26|   2|           G|             O|         M|      1990|2016-10-29|     F|              NZ|  9.501354793E10|        00002|       B2|\n",
      "|5748527|2016|    4|          245|          504|          NEW|  2016-04-30|              1|           MA|    2016-05-02| 44|   2|           G|             O|         M|      1972|2016-10-29|     M|              UA|  9.493828593E10|        01215|       B2|\n",
      "|5748528|2016|    4|          245|          504|          LOS|  2016-04-30|              1|         null|    2016-05-01| 39|   2|           G|             O|         M|      1977|2016-10-29|     M|              CM|  9.501810463E10|        00472|       B2|\n",
      "|5748529|2016|    4|          245|          504|          WAS|  2016-04-30|              1|           VA|    2016-05-22| 38|   2|           G|             O|         M|      1978|2016-10-29|     M|              CM|  9.492489983E10|        00488|       B2|\n",
      "|5748530|2016|    4|          245|          504|          LOS|  2016-04-30|              1|           CA|    2016-05-03| 56|   2|           G|             O|         M|      1960|2016-10-29|     F|              CM|  9.492648103E10|        00302|       B2|\n",
      "|5748531|2016|    4|          245|          504|          LOS|  2016-04-30|              1|           CA|    2016-05-03| 38|   2|           G|             O|         M|      1978|2016-10-28|     M|              CM|  9.492629303E10|        00302|       B2|\n",
      "|5748532|2016|    4|          245|          504|          MIA|  2016-04-30|              1|           FL|    2016-05-07| 53|   2|           G|             O|         M|      1963|2016-10-29|     F|              CM|  9.500640513E10|        00430|       B2|\n",
      "|5748534|2016|    4|          245|          528|          SFR|  2016-04-30|              1|           CA|          null| 84|   2|           G|          null|      null|      1932|2016-10-28|     F|              CX|  9.492476223E10|        00872|       B2|\n",
      "|5748876|2016|    4|          245|          582|          HOU|  2016-04-30|              1|           TX|    2016-05-09| 43|   1|           G|             O|         M|      1973|2016-10-29|     M|              UA|  9.499463063E10|        05574|       B1|\n",
      "|5748877|2016|    4|          245|          582|          HOU|  2016-04-30|              1|           TX|    2016-05-09| 30|   1|           G|             O|         M|      1986|2016-10-29|     F|              UA|  9.499447663E10|        05574|       B1|\n",
      "|5748881|2016|    4|          245|          582|          LOS|  2016-04-30|              1|           CA|    2016-05-01| 34|   2|           G|             O|         M|      1982|2016-10-29|     M|              AM|  9.496770903E10|        00646|       B2|\n",
      "+-------+----+-----+-------------+-------------+-------------+------------+---------------+-------------+--------------+---+----+------------+--------------+----------+----------+----------+------+----------------+----------------+-------------+---------+\n",
      "only showing top 20 rows\n",
      "\n"
     ]
    }
   ],
   "source": [
    "imm_df_final.show()"
   ]
  },
  {
   "cell_type": "code",
   "execution_count": 12,
   "metadata": {
    "editable": true
   },
   "outputs": [
    {
     "data": {
      "text/plain": [
       "3096313"
      ]
     },
     "execution_count": 12,
     "metadata": {},
     "output_type": "execute_result"
    }
   ],
   "source": [
    "imm_df_final.count()"
   ]
  },
  {
   "cell_type": "code",
   "execution_count": 13,
   "metadata": {
    "editable": true
   },
   "outputs": [
    {
     "name": "stdout",
     "output_type": "stream",
     "text": [
      "root\n",
      " |-- cicid: integer (nullable = true)\n",
      " |-- year: integer (nullable = true)\n",
      " |-- month: integer (nullable = true)\n",
      " |-- country_code1: integer (nullable = true)\n",
      " |-- country_code2: integer (nullable = true)\n",
      " |-- port_of_entry: string (nullable = true)\n",
      " |-- arrival_date: date (nullable = true)\n",
      " |-- mode_of_arrival: integer (nullable = true)\n",
      " |-- state_or_terr: string (nullable = true)\n",
      " |-- departure_date: date (nullable = true)\n",
      " |-- age: integer (nullable = true)\n",
      " |-- VISA: integer (nullable = true)\n",
      " |-- arrival_flag: string (nullable = true)\n",
      " |-- departure_flag: string (nullable = true)\n",
      " |-- match_flag: string (nullable = true)\n",
      " |-- birth_year: integer (nullable = true)\n",
      " |-- date_added: date (nullable = true)\n",
      " |-- gender: string (nullable = true)\n",
      " |-- incoming_airline: string (nullable = true)\n",
      " |-- admission_number: double (nullable = true)\n",
      " |-- flight_number: string (nullable = true)\n",
      " |-- visa_type: string (nullable = true)\n",
      "\n"
     ]
    }
   ],
   "source": [
    "imm_df_final.printSchema()"
   ]
  },
  {
   "cell_type": "code",
   "execution_count": 14,
   "metadata": {
    "editable": true
   },
   "outputs": [],
   "source": [
    "file = open('./I94_SAS_Labels_Descriptions.SAS', 'r')\n",
    "content = file.readlines()"
   ]
  },
  {
   "cell_type": "code",
   "execution_count": 15,
   "metadata": {
    "editable": true
   },
   "outputs": [
    {
     "name": "stdout",
     "output_type": "stream",
     "text": [
      "+------------+---------------------------------------------------------+\n",
      "|country_code|country                                                  |\n",
      "+------------+---------------------------------------------------------+\n",
      "|582         |MEXICO Air Sea, and Not Reported (I-94, no land arrivals)|\n",
      "|236         |AFGHANISTAN                                              |\n",
      "|101         |ALBANIA                                                  |\n",
      "|316         |ALGERIA                                                  |\n",
      "|102         |ANDORRA                                                  |\n",
      "|324         |ANGOLA                                                   |\n",
      "|529         |ANGUILLA                                                 |\n",
      "|518         |ANTIGUA-BARBUDA                                          |\n",
      "|687         |ARGENTINA                                                |\n",
      "|151         |ARMENIA                                                  |\n",
      "|532         |ARUBA                                                    |\n",
      "|438         |AUSTRALIA                                                |\n",
      "|103         |AUSTRIA                                                  |\n",
      "|152         |AZERBAIJAN                                               |\n",
      "|512         |BAHAMAS                                                  |\n",
      "|298         |BAHRAIN                                                  |\n",
      "|274         |BANGLADESH                                               |\n",
      "|513         |BARBADOS                                                 |\n",
      "|104         |BELGIUM                                                  |\n",
      "|581         |BELIZE                                                   |\n",
      "+------------+---------------------------------------------------------+\n",
      "only showing top 20 rows\n",
      "\n"
     ]
    }
   ],
   "source": [
    "lines = []\n",
    "\n",
    "for i in range(9, 298):\n",
    "    lines.append(content[i])\n",
    "\n",
    "my_data = []\n",
    "for i in range(len(lines)):\n",
    "    my_data.append(lines[i].split('='))\n",
    "    \n",
    "for i in range(len(my_data)):\n",
    "    my_data[i] = [my_data[i][0].strip(), my_data[i][1].strip().strip('\\'')]\n",
    "    \n",
    "columns = ['country_code', 'country']\n",
    "\n",
    "from pyspark.sql.types import StructType, StructField, StringType, IntegerType\n",
    "\n",
    "schema = StructType([\\\n",
    "                    StructField('country_code', StringType()),\n",
    "                    StructField('country', StringType())])\n",
    "\n",
    "country_codes_df = spark.createDataFrame(data = my_data, schema = schema)\n",
    "\n",
    "country_codes_df.show(truncate = False)\n"
   ]
  },
  {
   "cell_type": "code",
   "execution_count": 16,
   "metadata": {
    "editable": true
   },
   "outputs": [
    {
     "name": "stdout",
     "output_type": "stream",
     "text": [
      "root\n",
      " |-- country_code: string (nullable = true)\n",
      " |-- country: string (nullable = true)\n",
      "\n"
     ]
    }
   ],
   "source": [
    "country_codes_df.printSchema()"
   ]
  },
  {
   "cell_type": "code",
   "execution_count": 17,
   "metadata": {
    "editable": true
   },
   "outputs": [],
   "source": [
    "country_df_final = country_codes_df.withColumn('country_code', country_codes_df.country_code.cast(IntegerType()))"
   ]
  },
  {
   "cell_type": "code",
   "execution_count": 18,
   "metadata": {
    "editable": true
   },
   "outputs": [
    {
     "name": "stdout",
     "output_type": "stream",
     "text": [
      "root\n",
      " |-- country_code: integer (nullable = true)\n",
      " |-- country: string (nullable = true)\n",
      "\n"
     ]
    }
   ],
   "source": [
    "country_df_final.printSchema()"
   ]
  },
  {
   "cell_type": "code",
   "execution_count": 19,
   "metadata": {
    "editable": true
   },
   "outputs": [],
   "source": [
    "# Even though the country table only has a country code and a cooresponding name, it is important \n",
    "# to use a separate table for them in case later on, other country information can be added to the table\n",
    "# in the form of additional columns."
   ]
  },
  {
   "cell_type": "code",
   "execution_count": 20,
   "metadata": {
    "editable": true
   },
   "outputs": [],
   "source": [
    "port_lines = []\n",
    "for i in range(302, 963):\n",
    "    port_lines.append(content[i])"
   ]
  },
  {
   "cell_type": "code",
   "execution_count": 21,
   "metadata": {
    "editable": true
   },
   "outputs": [
    {
     "name": "stdout",
     "output_type": "stream",
     "text": [
      "   'ALC'\t=\t'ALCAN, AK             '\n",
      "\n"
     ]
    }
   ],
   "source": [
    "print(port_lines[0])"
   ]
  },
  {
   "cell_type": "code",
   "execution_count": 22,
   "metadata": {
    "editable": true
   },
   "outputs": [
    {
     "name": "stdout",
     "output_type": "stream",
     "text": [
      "AR (BPS)\n",
      "CA (BPS)\n",
      "CA (BPS)\n",
      "CA (BPS)\n",
      "CO #ARPT\n",
      "FL #ARPT\n",
      "LA (BPS)\n",
      "ME (BPS)\n",
      "MT (BPS)\n",
      "NM (BPS)\n",
      "NM (BPS)\n",
      "NM (BPS)\n",
      "SC #ARPT\n",
      "NORTHERN MARIANA ISLANDS\n",
      "TX (BPS)\n",
      "TX (BPS)\n",
      "VA #ARPT\n",
      "VT (I-91)\n",
      "VT (RT. 5)\n",
      "VT (BP - SECTOR HQ)\n",
      "WA #INTL\n",
      "WA (BPS)\n"
     ]
    }
   ],
   "source": [
    "my_data2 = []\n",
    "\n",
    "# for line in port_lines:\n",
    "#     my_data2.append(line.split('='))\n",
    "\n",
    "for i in range(0, 516):\n",
    "    my_data2.append(port_lines[i].split('='))\n",
    "    \n",
    "city_state = []\n",
    "row = 303\n",
    "index = 0\n",
    "\n",
    "\n",
    "\n",
    "my_data2[28][1] = my_data2[28][1].strip().strip('\\'').strip()\n",
    "my_data2[28][1] = my_data2[28][1].replace(' ', ', ')\n",
    "\n",
    "\n",
    "# print(my_data2[516][1])\n",
    "my_data2[76][1] = 'WASHINGTON DC, DC'\n",
    "my_data2[49][1] = 'PACIFIC COAST HWY STATION, CA'\n",
    "my_data2[217][1] = 'WARROAD INTL SPB, MN'\n",
    "my_data2[417][1] = 'HULL FIELD SUGAR LAND ARPT, TX'\n",
    "my_data2[385][1] = 'BLACK HILLS SPEARFISH, SD'\n",
    "my_data2[387][1] = 'SAIPAN, NORTHERN MARIANA ISLANDS'\n",
    "my_data2[428][1] = 'PASO DEL NORTE, TX'\n",
    "my_data2[444][1] = 'CRUZ BAY ST JOHN, VI'\n",
    "my_data2[478][1] = 'BELLINGHAM, WA #INTL'\n",
    "my_data2.append(port_lines[577].split('='))\n",
    "\n",
    "for i in range(579, 591):\n",
    "    my_data2.append(port_lines[i].split('='))\n",
    "\n",
    "# for port in my_data2:\n",
    "#     print('row: ' + str(row) + ' index: ' +str(index) + ' ' + port[1].split(', ')[1])\n",
    "#     row = row + 1\n",
    "#     index = index + 1\n",
    "    \n",
    "\n",
    "for i in range(len(my_data2)):\n",
    "    my_data2[i] = [my_data2[i][0].strip().strip('\\''), my_data2[i][1].strip().strip('\\'').strip().split(', ')[0], my_data2[i][1].strip().strip('\\'').strip().split(', ')[1]]\n",
    "    \n",
    "for data_point in my_data2:\n",
    "    if len(data_point[2]) > 2:\n",
    "        print(data_point[2])\n",
    "    \n",
    "# print(my_data2)\n",
    "\n"
   ]
  },
  {
   "cell_type": "code",
   "execution_count": 23,
   "metadata": {
    "editable": true
   },
   "outputs": [
    {
     "name": "stdout",
     "output_type": "stream",
     "text": [
      "['AR', '(BPS)']\n",
      "['CA', '(BPS)']\n",
      "['CA', '(BPS)']\n",
      "['CA', '(BPS)']\n",
      "['CO', '#ARPT']\n",
      "['FL', '#ARPT']\n",
      "['LA', '(BPS)']\n",
      "['ME', '(BPS)']\n",
      "['MT', '(BPS)']\n",
      "['NM', '(BPS)']\n",
      "['NM', '(BPS)']\n",
      "['NM', '(BPS)']\n",
      "['SC', '#ARPT']\n",
      "['TX', '(BPS)']\n",
      "['TX', '(BPS)']\n",
      "['VA', '#ARPT']\n",
      "['VT', '(I-91)']\n",
      "['VT', '(RT. 5)']\n",
      "['VT', '(BP - SECTOR HQ)']\n",
      "['WA', '#INTL']\n",
      "['WA', '(BPS)']\n"
     ]
    }
   ],
   "source": [
    "for row in my_data2:\n",
    "    if (len(row[2]) == 2 or row[2] == 'NORTHERN MARIANA ISLANDS'):\n",
    "        row.append(None)\n",
    "    else:\n",
    "#         row.append(row[2].split(' ')[1])\n",
    "        last_col = row[2].split(' ', 1)\n",
    "        row[2] = last_col[0]\n",
    "        row.append(last_col[1])\n",
    "        print(last_col)\n",
    "        \n",
    "        \n",
    "# print(my_data2)\n"
   ]
  },
  {
   "cell_type": "code",
   "execution_count": 24,
   "metadata": {
    "editable": true
   },
   "outputs": [],
   "source": [
    "for item in my_data2:\n",
    "    if len(item) != 4:\n",
    "        print(item)"
   ]
  },
  {
   "cell_type": "code",
   "execution_count": 25,
   "metadata": {
    "editable": true
   },
   "outputs": [],
   "source": [
    "us_port_schema = StructType([\\\n",
    "                    StructField('port_code', StringType()),\n",
    "                    StructField('port_name', StringType()),\n",
    "                    StructField('state_code', StringType()),\n",
    "                    StructField('extra_info', StringType())])\n",
    "\n",
    "us_port_df = spark.createDataFrame(data = my_data2, schema = us_port_schema)"
   ]
  },
  {
   "cell_type": "code",
   "execution_count": 26,
   "metadata": {
    "editable": true
   },
   "outputs": [
    {
     "name": "stdout",
     "output_type": "stream",
     "text": [
      "+---------+--------------------+----------+----------+\n",
      "|port_code|           port_name|state_code|extra_info|\n",
      "+---------+--------------------+----------+----------+\n",
      "|      ALC|               ALCAN|        AK|      null|\n",
      "|      ANC|           ANCHORAGE|        AK|      null|\n",
      "|      BAR|BAKER AAF - BAKER...|        AK|      null|\n",
      "|      DAC|       DALTONS CACHE|        AK|      null|\n",
      "|      PIZ|DEW STATION PT LA...|        AK|      null|\n",
      "|      DTH|        DUTCH HARBOR|        AK|      null|\n",
      "|      EGL|               EAGLE|        AK|      null|\n",
      "|      FRB|           FAIRBANKS|        AK|      null|\n",
      "|      HOM|               HOMER|        AK|      null|\n",
      "|      HYD|               HYDER|        AK|      null|\n",
      "|      JUN|              JUNEAU|        AK|      null|\n",
      "|      5KE|           KETCHIKAN|        AK|      null|\n",
      "|      KET|           KETCHIKAN|        AK|      null|\n",
      "|      MOS|MOSES POINT INTER...|        AK|      null|\n",
      "|      NIK|             NIKISKI|        AK|      null|\n",
      "|      NOM|                 NOM|        AK|      null|\n",
      "|      PKC|         POKER CREEK|        AK|      null|\n",
      "|      ORI|      PORT LIONS SPB|        AK|      null|\n",
      "|      SKA|             SKAGWAY|        AK|      null|\n",
      "|      SNP|     ST. PAUL ISLAND|        AK|      null|\n",
      "|      TKI|              TOKEEN|        AK|      null|\n",
      "|      WRA|            WRANGELL|        AK|      null|\n",
      "|      HSV|MADISON COUNTY - ...|        AL|      null|\n",
      "|      MOB|              MOBILE|        AL|      null|\n",
      "|      LIA|         LITTLE ROCK|        AR|     (BPS)|\n",
      "|      ROG|         ROGERS ARPT|        AR|      null|\n",
      "|      DOU|             DOUGLAS|        AZ|      null|\n",
      "|      LUK|           LUKEVILLE|        AZ|      null|\n",
      "|      MAP|            MARIPOSA|        AZ|      null|\n",
      "|      NAC|                NACO|        AZ|      null|\n",
      "|      NOG|             NOGALES|        AZ|      null|\n",
      "|      PHO|             PHOENIX|        AZ|      null|\n",
      "|      POR|              PORTAL|        AZ|      null|\n",
      "|      SLU|            SAN LUIS|        AZ|      null|\n",
      "|      SAS|              SASABE|        AZ|      null|\n",
      "|      TUC|              TUCSON|        AZ|      null|\n",
      "|      YUI|                YUMA|        AZ|      null|\n",
      "|      AND|             ANDRADE|        CA|      null|\n",
      "|      BUR|             BURBANK|        CA|      null|\n",
      "|      CAL|            CALEXICO|        CA|      null|\n",
      "|      CAO|               CAMPO|        CA|      null|\n",
      "|      FRE|              FRESNO|        CA|      null|\n",
      "|      ICP|     IMPERIAL COUNTY|        CA|      null|\n",
      "|      LNB|          LONG BEACH|        CA|      null|\n",
      "|      LOS|         LOS ANGELES|        CA|      null|\n",
      "|      BFL|MEADOWS FIELD - B...|        CA|      null|\n",
      "|      OAK|             OAKLAND|        CA|      null|\n",
      "|      ONT|             ONTARIO|        CA|      null|\n",
      "|      OTM|           OTAY MESA|        CA|      null|\n",
      "|      BLT|PACIFIC COAST HWY...|        CA|      null|\n",
      "|      PSP|        PALM SPRINGS|        CA|      null|\n",
      "|      SAC|          SACRAMENTO|        CA|      null|\n",
      "|      SLS|             SALINAS|        CA|     (BPS)|\n",
      "|      SDP|           SAN DIEGO|        CA|      null|\n",
      "|      SFR|       SAN FRANCISCO|        CA|      null|\n",
      "|      SNJ|            SAN JOSE|        CA|      null|\n",
      "|      SLO|     SAN LUIS OBISPO|        CA|      null|\n",
      "|      SLI|     SAN LUIS OBISPO|        CA|     (BPS)|\n",
      "|      SPC|           SAN PEDRO|        CA|      null|\n",
      "|      SYS|          SAN YSIDRO|        CA|      null|\n",
      "|      SAA|           SANTA ANA|        CA|      null|\n",
      "|      STO|            STOCKTON|        CA|     (BPS)|\n",
      "|      TEC|              TECATE|        CA|      null|\n",
      "|      TRV|          TRAVIS-AFB|        CA|      null|\n",
      "|      APA|     ARAPAHOE COUNTY|        CO|      null|\n",
      "|      ASE|               ASPEN|        CO|     #ARPT|\n",
      "|      COS|    COLORADO SPRINGS|        CO|      null|\n",
      "|      DEN|              DENVER|        CO|      null|\n",
      "|      DRO|  LA PLATA - DURANGO|        CO|      null|\n",
      "|      BDL|BRADLEY INTERNATI...|        CT|      null|\n",
      "|      BGC|          BRIDGEPORT|        CT|      null|\n",
      "|      GRT|              GROTON|        CT|      null|\n",
      "|      HAR|            HARTFORD|        CT|      null|\n",
      "|      NWH|           NEW HAVEN|        CT|      null|\n",
      "|      NWL|          NEW LONDON|        CT|      null|\n",
      "|      TST|NEWINGTON DATA CE...|        CT|      null|\n",
      "|      WAS|       WASHINGTON DC|        DC|      null|\n",
      "|      DOV|           DOVER AFB|        DE|      null|\n",
      "|      DVD|           DOVER-AFB|        DE|      null|\n",
      "|      WLL|          WILMINGTON|        DE|      null|\n",
      "|      BOC|          BOCAGRANDE|        FL|      null|\n",
      "|      SRQ|BRADENTON - SARASOTA|        FL|      null|\n",
      "|      CAN|      CAPE CANAVERAL|        FL|      null|\n",
      "|      DAB|DAYTONA BEACH INT...|        FL|      null|\n",
      "|      FRN|          FERNANDINA|        FL|      null|\n",
      "|      FTL|     FORT LAUDERDALE|        FL|      null|\n",
      "|      FMY|          FORT MYERS|        FL|      null|\n",
      "|      FPF|         FORT PIERCE|        FL|      null|\n",
      "|      HUR|      HURLBURT FIELD|        FL|      null|\n",
      "|      GNV|J R ALISON MUNI -...|        FL|      null|\n",
      "|      JAC|        JACKSONVILLE|        FL|      null|\n",
      "|      KEY|            KEY WEST|        FL|      null|\n",
      "|      LEE|LEESBURG MUNICIPA...|        FL|      null|\n",
      "|      MLB|           MELBOURNE|        FL|      null|\n",
      "|      MIA|               MIAMI|        FL|      null|\n",
      "|      APF|              NAPLES|        FL|     #ARPT|\n",
      "|      OPF|           OPA LOCKA|        FL|      null|\n",
      "|      ORL|             ORLANDO|        FL|      null|\n",
      "|      PAN|         PANAMA CITY|        FL|      null|\n",
      "|      PEN|           PENSACOLA|        FL|      null|\n",
      "|      PCF|      PORT CANAVERAL|        FL|      null|\n",
      "|      PEV|     PORT EVERGLADES|        FL|      null|\n",
      "|      PSJ|         PORT ST JOE|        FL|      null|\n",
      "|      SFB|             SANFORD|        FL|      null|\n",
      "|      SGJ|   ST AUGUSTINE ARPT|        FL|      null|\n",
      "|      SAU|        ST AUGUSTINE|        FL|      null|\n",
      "|      FPR|     ST LUCIE COUNTY|        FL|      null|\n",
      "|      SPE|       ST PETERSBURG|        FL|      null|\n",
      "|      TAM|               TAMPA|        FL|      null|\n",
      "|      WPB|     WEST PALM BEACH|        FL|      null|\n",
      "|      ATL|             ATLANTA|        GA|      null|\n",
      "|      BRU|           BRUNSWICK|        GA|      null|\n",
      "|      AGS|BUSH FIELD - AUGUSTA|        GA|      null|\n",
      "|      SAV|            SAVANNAH|        GA|      null|\n",
      "|      AGA|               AGANA|        GU|      null|\n",
      "|      HHW|            HONOLULU|        HI|      null|\n",
      "|      OGG|      KAHULUI - MAUI|        HI|      null|\n",
      "|      KOA|        KEAHOLE-KONA|        HI|      null|\n",
      "|      LIH|               LIHUE|        HI|      null|\n",
      "|      CID|CEDAR RAPIDS/IOWA...|        IA|      null|\n",
      "|      DSM|          DES MOINES|        IA|      null|\n",
      "|      BOI|AIR TERM. (GOWEN ...|        ID|      null|\n",
      "|      EPI|            EASTPORT|        ID|      null|\n",
      "|      IDA|FANNING FIELD - I...|        ID|      null|\n",
      "|      PTL|            PORTHILL|        ID|      null|\n",
      "|      SPI|CAPITAL - SPRINGF...|        IL|      null|\n",
      "|      CHI|             CHICAGO|        IL|      null|\n",
      "|      DPA|       DUPAGE COUNTY|        IL|      null|\n",
      "|      PIA|      GREATER PEORIA|        IL|      null|\n",
      "|      RFD|    GREATER ROCKFORD|        IL|      null|\n",
      "|      UGN| MEMORIAL - WAUKEGAN|        IL|      null|\n",
      "|      GAR|                GARY|        IN|      null|\n",
      "|      HMM|             HAMMOND|        IN|      null|\n",
      "|      INP|        INDIANAPOLIS|        IN|      null|\n",
      "|      MRL|        MERRILLVILLE|        IN|      null|\n",
      "|      SBN|          SOUTH BEND|        IN|      null|\n",
      "|      ICT|MID-CONTINENT - W...|        KS|      null|\n",
      "|      LEX|BLUE GRASS - LEXI...|        KY|      null|\n",
      "|      LOU|          LOUISVILLE|        KY|      null|\n",
      "|      BTN|         BATON ROUGE|        LA|      null|\n",
      "|      LKC|        LAKE CHARLES|        LA|      null|\n",
      "|      LAK|        LAKE CHARLES|        LA|     (BPS)|\n",
      "|      MLU|              MONROE|        LA|      null|\n",
      "|      MGC|         MORGAN CITY|        LA|      null|\n",
      "|      NOL|         NEW ORLEANS|        LA|      null|\n",
      "|      BOS|              BOSTON|        MA|      null|\n",
      "|      GLO|          GLOUCESTER|        MA|      null|\n",
      "|      BED|HANSCOM FIELD - B...|        MA|      null|\n",
      "|      LYN|              LYNDEN|        WA|      null|\n",
      "|      ADW|         ANDREWS AFB|        MD|      null|\n",
      "|      BAL|           BALTIMORE|        MD|      null|\n",
      "|      MKG|            MUSKEGON|        MD|      null|\n",
      "|      PAX|      PATUXENT RIVER|        MD|      null|\n",
      "|      BGM|              BANGOR|        ME|      null|\n",
      "|      BOO|     BOOTHBAY HARBOR|        ME|      null|\n",
      "|      BWM|         BRIDGEWATER|        ME|      null|\n",
      "|      BCK|            BUCKPORT|        ME|      null|\n",
      "|      CLS|              CALAIS|        ME|      null|\n",
      "|      CRB|             CARIBOU|        ME|      null|\n",
      "|      COB|         COBURN GORE|        ME|      null|\n",
      "|      EST|           EASTCOURT|        ME|      null|\n",
      "|      EPT|  EASTPORT MUNICIPAL|        ME|      null|\n",
      "|      EPM|            EASTPORT|        ME|      null|\n",
      "|      FOR|         FOREST CITY|        ME|      null|\n",
      "|      FTF|      FORT FAIRFIELD|        ME|      null|\n",
      "|      FTK|           FORT KENT|        ME|      null|\n",
      "|      HML|              HAMIIN|        ME|      null|\n",
      "|      HTM|             HOULTON|        ME|      null|\n",
      "|      JKM|             JACKMAN|        ME|      null|\n",
      "|      KAL|            KALISPEL|        MT|      null|\n",
      "|      LIM|           LIMESTONE|        ME|      null|\n",
      "|      LUB|               LUBEC|        ME|      null|\n",
      "|      MAD|           MADAWASKA|        ME|      null|\n",
      "|      POM|            PORTLAND|        ME|      null|\n",
      "|      RGM|            RANGELEY|        ME|     (BPS)|\n",
      "|      SBR|        SOUTH BREWER|        ME|      null|\n",
      "|      SRL|          ST AURELIE|        ME|      null|\n",
      "|      SPA|          ST PAMPILE|        ME|      null|\n",
      "|      VNB|           VAN BUREN|        ME|      null|\n",
      "|      VCB|           VANCEBORO|        ME|      null|\n",
      "|      AGN|             ALGONAC|        MI|      null|\n",
      "|      ALP|              ALPENA|        MI|      null|\n",
      "|      BCY|            BAY CITY|        MI|      null|\n",
      "|      DET|             DETROIT|        MI|      null|\n",
      "|      GRP|        GRAND RAPIDS|        MI|      null|\n",
      "|      GRO|         GROSSE ISLE|        MI|      null|\n",
      "|      ISL|         ISLE ROYALE|        MI|      null|\n",
      "|      MRC|         MARINE CITY|        MI|      null|\n",
      "|      MRY|          MARYSVILLE|        MI|      null|\n",
      "|      PTK|OAKLAND COUNTY - ...|        MI|      null|\n",
      "|      PHU|          PORT HURON|        MI|      null|\n",
      "|      RBT|     ROBERTS LANDING|        MI|      null|\n",
      "|      SAG|             SAGINAW|        MI|      null|\n",
      "|      SSM|    SAULT STE. MARIE|        MI|      null|\n",
      "|      SCL|            ST CLAIR|        MI|      null|\n",
      "|      YIP|WILLOW RUN - YPSI...|        MI|      null|\n",
      "|      BAU|            BAUDETTE|        MN|      null|\n",
      "|      CAR|CARIBOU MUNICIPAL...|        MN|      null|\n",
      "|      GTF|  Collapsed into INT|        MN|      null|\n",
      "|      INL|  Collapsed into INT|        MN|      null|\n",
      "|      CRA|          CRANE LAKE|        MN|      null|\n",
      "|      MIC|CRYSTAL MUNICIPAL...|        MN|      null|\n",
      "|      DUL|              DULUTH|        MN|      null|\n",
      "|      ELY|                 ELY|        MN|      null|\n",
      "|      GPM|       GRAND PORTAGE|        MN|      null|\n",
      "|      SVC|GRANT COUNTY - SI...|        MN|      null|\n",
      "|      INT|        INT''L FALLS|        MN|      null|\n",
      "|      LAN|           LANCASTER|        MN|      null|\n",
      "|      MSP|       MINN./ST PAUL|        MN|      null|\n",
      "|      LIN| NORTHERN SVC CENTER|        MN|      null|\n",
      "|      NOY|               NOYES|        MN|      null|\n",
      "|      PIN|          PINE CREEK|        MN|      null|\n",
      "|      48Y|PINECREEK BORDER ...|        MN|      null|\n",
      "|      RAN|              RAINER|        MN|      null|\n",
      "|      RST|           ROCHESTER|        MN|      null|\n",
      "|      ROS|              ROSEAU|        MN|      null|\n",
      "|      SPM|             ST PAUL|        MN|      null|\n",
      "|      WSB|    WARROAD INTL SPB|        MN|      null|\n",
      "|      WAR|             WARROAD|        MN|      null|\n",
      "|      KAN|         KANSAS CITY|        MO|      null|\n",
      "|      SGF| SPRINGFIELD-BRANSON|        MO|      null|\n",
      "|      STL|            ST LOUIS|        MO|      null|\n",
      "|      WHI|           WHITETAIL|        MT|      null|\n",
      "|      WHM|          WILD HORSE|        MT|      null|\n",
      "|      GPT|     BILOXI REGIONAL|        MS|      null|\n",
      "|      GTR|GOLDEN TRIANGLE L...|        MS|      null|\n",
      "|      GUL|            GULFPORT|        MS|      null|\n",
      "|      PAS|          PASCAGOULA|        MS|      null|\n",
      "|      JAN|THOMPSON FIELD - ...|        MS|      null|\n",
      "|      BIL|            BILLINGS|        MT|      null|\n",
      "|      BTM|               BUTTE|        MT|      null|\n",
      "|      CHF|            CHIEF MT|        MT|      null|\n",
      "|      CTB|  CUT BANK MUNICIPAL|        MT|      null|\n",
      "|      CUT|            CUT BANK|        MT|      null|\n",
      "|      DLB|          DEL BONITA|        MT|      null|\n",
      "|      EUR|              EUREKA|        MT|     (BPS)|\n",
      "|      BZN|GALLATIN FIELD - ...|        MT|      null|\n",
      "|      FCA|GLACIER NATIONAL ...|        MT|      null|\n",
      "|      GGW|             GLASGOW|        MT|      null|\n",
      "|      GRE|         GREAT FALLS|        MT|      null|\n",
      "|      HVR|               HAVRE|        MT|      null|\n",
      "|      HEL|              HELENA|        MT|      null|\n",
      "|      LWT|            LEWISTON|        MT|      null|\n",
      "|      MGM|              MORGAN|        MT|      null|\n",
      "|      OPH|              OPHEIM|        MT|      null|\n",
      "|      PIE|              PIEGAN|        MT|      null|\n",
      "|      RAY|             RAYMOND|        MT|      null|\n",
      "|      ROO|           ROOSVILLE|        MT|      null|\n",
      "|      SCO|              SCOBEY|        MT|      null|\n",
      "|      SWE|          SWEETGTASS|        MT|      null|\n",
      "|      TRL|         TRIAL CREEK|        MT|      null|\n",
      "|      TUR|              TURNER|        MT|      null|\n",
      "|      WCM|        WILLOW CREEK|        MT|      null|\n",
      "|      CLT|           CHARLOTTE|        NC|      null|\n",
      "|      FAY|        FAYETTEVILLE|        NC|      null|\n",
      "|      MRH|       MOREHEAD CITY|        NC|      null|\n",
      "|      FOP|   MORRIS FIELDS AAF|        NC|      null|\n",
      "|      GSO|PIEDMONT TRIAD IN...|        NC|      null|\n",
      "|      RDU|      RALEIGH/DURHAM|        NC|      null|\n",
      "|      SSC|   SHAW AFB - SUMTER|        NC|      null|\n",
      "|      WIL|          WILMINGTON|        NC|      null|\n",
      "|      AMB|             AMBROSE|        ND|      null|\n",
      "|      ANT|              ANTLER|        ND|      null|\n",
      "|      CRY|             CARBURY|        ND|      null|\n",
      "|      DNS|            DUNSEITH|        ND|      null|\n",
      "|      FAR|               FARGO|        ND|      null|\n",
      "|      FRT|             FORTUNA|        ND|      null|\n",
      "|      GRF|         GRAND FORKS|        ND|      null|\n",
      "|      HNN|              HANNAH|        ND|      null|\n",
      "|      HNS|            HANSBORO|        ND|      null|\n",
      "|      MAI|               MAIDA|        ND|      null|\n",
      "|      MND|               MINOT|        ND|      null|\n",
      "|      NEC|               NECHE|        ND|      null|\n",
      "|      NOO|              NOONAN|        ND|      null|\n",
      "|      NRG|           NORTHGATE|        ND|      null|\n",
      "|      PEM|             PEMBINA|        ND|      null|\n",
      "|      SAR|              SARLES|        ND|      null|\n",
      "|      SHR|            SHERWOOD|        ND|      null|\n",
      "|      SJO|             ST JOHN|        ND|      null|\n",
      "|      WAL|            WALHALLA|        ND|      null|\n",
      "|      WHO|            WESTHOPE|        ND|      null|\n",
      "|      WND|           WILLISTON|        ND|      null|\n",
      "|      OMA|               OMAHA|        NE|      null|\n",
      "|      LEB|             LEBANON|        NH|      null|\n",
      "|      MHT|          MANCHESTER|        NH|      null|\n",
      "|      PNH|           PITTSBURG|        NH|      null|\n",
      "|      PSM|          PORTSMOUTH|        NH|      null|\n",
      "|      BYO|             BAYONNE|        NJ|      null|\n",
      "|      CNJ|              CAMDEN|        NJ|      null|\n",
      "|      HOB|             HOBOKEN|        NJ|      null|\n",
      "|      JER|         JERSEY CITY|        NJ|      null|\n",
      "|      WRI|MC GUIRE AFB - WR...|        NJ|      null|\n",
      "|      MMU|          MORRISTOWN|        NJ|      null|\n",
      "|      NEW|    NEWARK/TETERBORO|        NJ|      null|\n",
      "|      PER|         PERTH AMBOY|        NJ|      null|\n",
      "|      ACY|POMONA FIELD - AT...|        NJ|      null|\n",
      "|      ALA|          ALAMAGORDO|        NM|     (BPS)|\n",
      "|      ABQ|         ALBUQUERQUE|        NM|      null|\n",
      "|      ANP|      ANTELOPE WELLS|        NM|      null|\n",
      "|      CRL|            CARLSBAD|        NM|      null|\n",
      "+---------+--------------------+----------+----------+\n",
      "only showing top 300 rows\n",
      "\n",
      "root\n",
      " |-- port_code: string (nullable = true)\n",
      " |-- port_name: string (nullable = true)\n",
      " |-- state_code: string (nullable = true)\n",
      " |-- extra_info: string (nullable = true)\n",
      "\n"
     ]
    }
   ],
   "source": [
    "us_port_df.show(300)\n",
    "us_port_df.printSchema()"
   ]
  },
  {
   "cell_type": "code",
   "execution_count": 27,
   "metadata": {
    "editable": true
   },
   "outputs": [],
   "source": [
    "state_lines = []\n",
    "for i in range(981, 1036):\n",
    "    state_lines.append(content[i])"
   ]
  },
  {
   "cell_type": "code",
   "execution_count": 28,
   "metadata": {
    "editable": true
   },
   "outputs": [
    {
     "name": "stdout",
     "output_type": "stream",
     "text": [
      "\t'AL'='ALABAMA'\n",
      "\n"
     ]
    }
   ],
   "source": [
    "print(state_lines[0])"
   ]
  },
  {
   "cell_type": "code",
   "execution_count": 29,
   "metadata": {
    "editable": true
   },
   "outputs": [
    {
     "name": "stdout",
     "output_type": "stream",
     "text": [
      "[['AL', 'ALABAMA'], ['AK', 'ALASKA'], ['AZ', 'ARIZONA'], ['AR', 'ARKANSAS'], ['CA', 'CALIFORNIA'], ['CO', 'COLORADO'], ['CT', 'CONNECTICUT'], ['DE', 'DELAWARE'], ['DC', 'DIST. OF COLUMBIA'], ['FL', 'FLORIDA'], ['GA', 'GEORGIA'], ['GU', 'GUAM'], ['HI', 'HAWAII'], ['ID', 'IDAHO'], ['IL', 'ILLINOIS'], ['IN', 'INDIANA'], ['IA', 'IOWA'], ['KS', 'KANSAS'], ['KY', 'KENTUCKY'], ['LA', 'LOUISIANA'], ['ME', 'MAINE'], ['MD', 'MARYLAND'], ['MA', 'MASSACHUSETTS'], ['MI', 'MICHIGAN'], ['MN', 'MINNESOTA'], ['MS', 'MISSISSIPPI'], ['MO', 'MISSOURI'], ['MT', 'MONTANA'], ['NC', 'N. CAROLINA'], ['ND', 'N. DAKOTA'], ['NE', 'NEBRASKA'], ['NV', 'NEVADA'], ['NH', 'NEW HAMPSHIRE'], ['NJ', 'NEW JERSEY'], ['NM', 'NEW MEXICO'], ['NY', 'NEW YORK'], ['OH', 'OHIO'], ['OK', 'OKLAHOMA'], ['OR', 'OREGON'], ['PA', 'PENNSYLVANIA'], ['PR', 'PUERTO RICO'], ['RI', 'RHODE ISLAND'], ['SC', 'S. CAROLINA'], ['SD', 'S. DAKOTA'], ['TN', 'TENNESSEE'], ['TX', 'TEXAS'], ['UT', 'UTAH'], ['VT', 'VERMONT'], ['VI', 'VIRGIN ISLANDS'], ['VA', 'VIRGINIA'], ['WV', 'W. VIRGINIA'], ['WA', 'WASHINGTON'], ['WI', 'WISCONSON'], ['WY', 'WYOMING'], ['99', \"All Other Codes' ;\"]]\n"
     ]
    }
   ],
   "source": [
    "my_data3 = []\n",
    "for line in state_lines:\n",
    "    split_data = line.split('=')\n",
    "    my_data3.append([split_data[0].strip().strip('\\''), split_data[1].strip().strip('\\'')])\n",
    "        \n",
    "    \n",
    "    \n",
    "print(my_data3)\n",
    "    \n"
   ]
  },
  {
   "cell_type": "code",
   "execution_count": 30,
   "metadata": {
    "editable": true
   },
   "outputs": [],
   "source": [
    "state_schema = StructType([\\\n",
    "                          StructField('state_code', StringType()),\n",
    "                          StructField('state_name', StringType())])"
   ]
  },
  {
   "cell_type": "code",
   "execution_count": 31,
   "metadata": {
    "editable": true
   },
   "outputs": [],
   "source": [
    "state_df_final = spark.createDataFrame(data = my_data3, schema = state_schema)"
   ]
  },
  {
   "cell_type": "code",
   "execution_count": 32,
   "metadata": {
    "editable": true
   },
   "outputs": [
    {
     "name": "stdout",
     "output_type": "stream",
     "text": [
      "+----------+-----------------+\n",
      "|state_code|       state_name|\n",
      "+----------+-----------------+\n",
      "|        AL|          ALABAMA|\n",
      "|        AK|           ALASKA|\n",
      "|        AZ|          ARIZONA|\n",
      "|        AR|         ARKANSAS|\n",
      "|        CA|       CALIFORNIA|\n",
      "|        CO|         COLORADO|\n",
      "|        CT|      CONNECTICUT|\n",
      "|        DE|         DELAWARE|\n",
      "|        DC|DIST. OF COLUMBIA|\n",
      "|        FL|          FLORIDA|\n",
      "|        GA|          GEORGIA|\n",
      "|        GU|             GUAM|\n",
      "|        HI|           HAWAII|\n",
      "|        ID|            IDAHO|\n",
      "|        IL|         ILLINOIS|\n",
      "|        IN|          INDIANA|\n",
      "|        IA|             IOWA|\n",
      "|        KS|           KANSAS|\n",
      "|        KY|         KENTUCKY|\n",
      "|        LA|        LOUISIANA|\n",
      "+----------+-----------------+\n",
      "only showing top 20 rows\n",
      "\n"
     ]
    }
   ],
   "source": [
    "state_df_final.show()"
   ]
  },
  {
   "cell_type": "code",
   "execution_count": 33,
   "metadata": {
    "editable": true
   },
   "outputs": [],
   "source": [
    "airport_df = spark.read.options(delimiter = ',').option(\"header\", True).csv('airport-codes_csv.csv')"
   ]
  },
  {
   "cell_type": "code",
   "execution_count": 34,
   "metadata": {
    "editable": true
   },
   "outputs": [
    {
     "name": "stdout",
     "output_type": "stream",
     "text": [
      "+-----+-------------+--------------------+------------+---------+-----------+----------+------------+--------+---------+----------+--------------------+\n",
      "|ident|         type|                name|elevation_ft|continent|iso_country|iso_region|municipality|gps_code|iata_code|local_code|         coordinates|\n",
      "+-----+-------------+--------------------+------------+---------+-----------+----------+------------+--------+---------+----------+--------------------+\n",
      "|  00A|     heliport|   Total Rf Heliport|          11|       NA|         US|     US-PA|    Bensalem|     00A|     null|       00A|-74.9336013793945...|\n",
      "| 00AA|small_airport|Aero B Ranch Airport|        3435|       NA|         US|     US-KS|       Leoti|    00AA|     null|      00AA|-101.473911, 38.7...|\n",
      "| 00AK|small_airport|        Lowell Field|         450|       NA|         US|     US-AK|Anchor Point|    00AK|     null|      00AK|-151.695999146, 5...|\n",
      "| 00AL|small_airport|        Epps Airpark|         820|       NA|         US|     US-AL|     Harvest|    00AL|     null|      00AL|-86.7703018188476...|\n",
      "| 00AR|       closed|Newport Hospital ...|         237|       NA|         US|     US-AR|     Newport|    null|     null|      null| -91.254898, 35.6087|\n",
      "| 00AS|small_airport|      Fulton Airport|        1100|       NA|         US|     US-OK|        Alex|    00AS|     null|      00AS|-97.8180194, 34.9...|\n",
      "| 00AZ|small_airport|      Cordes Airport|        3810|       NA|         US|     US-AZ|      Cordes|    00AZ|     null|      00AZ|-112.165000915527...|\n",
      "| 00CA|small_airport|Goldstone /Gts/ A...|        3038|       NA|         US|     US-CA|     Barstow|    00CA|     null|      00CA|-116.888000488, 3...|\n",
      "| 00CL|small_airport| Williams Ag Airport|          87|       NA|         US|     US-CA|       Biggs|    00CL|     null|      00CL|-121.763427, 39.4...|\n",
      "| 00CN|     heliport|Kitchen Creek Hel...|        3350|       NA|         US|     US-CA| Pine Valley|    00CN|     null|      00CN|-116.4597417, 32....|\n",
      "| 00CO|       closed|          Cass Field|        4830|       NA|         US|     US-CO|  Briggsdale|    null|     null|      null|-104.344002, 40.6...|\n",
      "| 00FA|small_airport| Grass Patch Airport|          53|       NA|         US|     US-FL|    Bushnell|    00FA|     null|      00FA|-82.2190017700195...|\n",
      "| 00FD|     heliport|  Ringhaver Heliport|          25|       NA|         US|     US-FL|   Riverview|    00FD|     null|      00FD|-82.3453979492187...|\n",
      "| 00FL|small_airport|   River Oak Airport|          35|       NA|         US|     US-FL|  Okeechobee|    00FL|     null|      00FL|-80.9692001342773...|\n",
      "| 00GA|small_airport|    Lt World Airport|         700|       NA|         US|     US-GA|    Lithonia|    00GA|     null|      00GA|-84.0682983398437...|\n",
      "| 00GE|     heliport|    Caffrey Heliport|         957|       NA|         US|     US-GA|       Hiram|    00GE|     null|      00GE|-84.7339019775390...|\n",
      "| 00HI|     heliport|  Kaupulehu Heliport|          43|       NA|         US|     US-HI| Kailua/Kona|    00HI|     null|      00HI|-155.980233, 19.8...|\n",
      "| 00ID|small_airport|Delta Shores Airport|        2064|       NA|         US|     US-ID|  Clark Fork|    00ID|     null|      00ID|-116.213996887207...|\n",
      "| 00IG|small_airport|       Goltl Airport|        3359|       NA|         US|     US-KS|    McDonald|    00IG|     null|      00IG|-101.395994, 39.7...|\n",
      "| 00II|     heliport|Bailey Generation...|         600|       NA|         US|     US-IN|  Chesterton|    00II|     null|      00II|-87.122802734375,...|\n",
      "+-----+-------------+--------------------+------------+---------+-----------+----------+------------+--------+---------+----------+--------------------+\n",
      "only showing top 20 rows\n",
      "\n"
     ]
    }
   ],
   "source": [
    "airport_df.show()"
   ]
  },
  {
   "cell_type": "code",
   "execution_count": 35,
   "metadata": {
    "editable": true
   },
   "outputs": [
    {
     "data": {
      "text/plain": [
       "22757"
      ]
     },
     "execution_count": 35,
     "metadata": {},
     "output_type": "execute_result"
    }
   ],
   "source": [
    "airport_df = airport_df.filter(airport_df.iso_country == 'US')\n",
    "airport_df.count()"
   ]
  },
  {
   "cell_type": "code",
   "execution_count": 36,
   "metadata": {
    "editable": true
   },
   "outputs": [
    {
     "name": "stdout",
     "output_type": "stream",
     "text": [
      "+-----+-------------+--------------------+------------+------------+--------+---------+----------+--------------------+----------+\n",
      "|ident|         type|                name|elevation_ft|municipality|gps_code|iata_code|local_code|         coordinates|state_code|\n",
      "+-----+-------------+--------------------+------------+------------+--------+---------+----------+--------------------+----------+\n",
      "|  00A|     heliport|   Total Rf Heliport|          11|    Bensalem|     00A|     null|       00A|-74.9336013793945...|        PA|\n",
      "| 00AA|small_airport|Aero B Ranch Airport|        3435|       Leoti|    00AA|     null|      00AA|-101.473911, 38.7...|        KS|\n",
      "| 00AK|small_airport|        Lowell Field|         450|Anchor Point|    00AK|     null|      00AK|-151.695999146, 5...|        AK|\n",
      "| 00AL|small_airport|        Epps Airpark|         820|     Harvest|    00AL|     null|      00AL|-86.7703018188476...|        AL|\n",
      "| 00AR|       closed|Newport Hospital ...|         237|     Newport|    null|     null|      null| -91.254898, 35.6087|        AR|\n",
      "| 00AS|small_airport|      Fulton Airport|        1100|        Alex|    00AS|     null|      00AS|-97.8180194, 34.9...|        OK|\n",
      "| 00AZ|small_airport|      Cordes Airport|        3810|      Cordes|    00AZ|     null|      00AZ|-112.165000915527...|        AZ|\n",
      "| 00CA|small_airport|Goldstone /Gts/ A...|        3038|     Barstow|    00CA|     null|      00CA|-116.888000488, 3...|        CA|\n",
      "| 00CL|small_airport| Williams Ag Airport|          87|       Biggs|    00CL|     null|      00CL|-121.763427, 39.4...|        CA|\n",
      "| 00CN|     heliport|Kitchen Creek Hel...|        3350| Pine Valley|    00CN|     null|      00CN|-116.4597417, 32....|        CA|\n",
      "| 00CO|       closed|          Cass Field|        4830|  Briggsdale|    null|     null|      null|-104.344002, 40.6...|        CO|\n",
      "| 00FA|small_airport| Grass Patch Airport|          53|    Bushnell|    00FA|     null|      00FA|-82.2190017700195...|        FL|\n",
      "| 00FD|     heliport|  Ringhaver Heliport|          25|   Riverview|    00FD|     null|      00FD|-82.3453979492187...|        FL|\n",
      "| 00FL|small_airport|   River Oak Airport|          35|  Okeechobee|    00FL|     null|      00FL|-80.9692001342773...|        FL|\n",
      "| 00GA|small_airport|    Lt World Airport|         700|    Lithonia|    00GA|     null|      00GA|-84.0682983398437...|        GA|\n",
      "| 00GE|     heliport|    Caffrey Heliport|         957|       Hiram|    00GE|     null|      00GE|-84.7339019775390...|        GA|\n",
      "| 00HI|     heliport|  Kaupulehu Heliport|          43| Kailua/Kona|    00HI|     null|      00HI|-155.980233, 19.8...|        HI|\n",
      "| 00ID|small_airport|Delta Shores Airport|        2064|  Clark Fork|    00ID|     null|      00ID|-116.213996887207...|        ID|\n",
      "| 00IG|small_airport|       Goltl Airport|        3359|    McDonald|    00IG|     null|      00IG|-101.395994, 39.7...|        KS|\n",
      "| 00II|     heliport|Bailey Generation...|         600|  Chesterton|    00II|     null|      00II|-87.122802734375,...|        IN|\n",
      "+-----+-------------+--------------------+------------+------------+--------+---------+----------+--------------------+----------+\n",
      "only showing top 20 rows\n",
      "\n",
      "root\n",
      " |-- ident: string (nullable = true)\n",
      " |-- type: string (nullable = true)\n",
      " |-- name: string (nullable = true)\n",
      " |-- elevation_ft: integer (nullable = true)\n",
      " |-- municipality: string (nullable = true)\n",
      " |-- gps_code: string (nullable = true)\n",
      " |-- iata_code: string (nullable = true)\n",
      " |-- local_code: string (nullable = true)\n",
      " |-- coordinates: string (nullable = true)\n",
      " |-- state_code: string (nullable = true)\n",
      "\n"
     ]
    }
   ],
   "source": [
    "from pyspark.sql.functions import split\n",
    "\n",
    "airport_df_final = airport_df.withColumn('state_code', split(airport_df.iso_region, '-')[1])\\\n",
    "                             .withColumn('elevation_ft', airport_df.elevation_ft.cast(IntegerType()))\\\n",
    "                             .drop('iso_region')\\\n",
    "                             .drop('continent')\\\n",
    "                             .drop('iso_country')\n",
    "\n",
    "airport_df_final.show()\n",
    "airport_df_final.printSchema()"
   ]
  },
  {
   "cell_type": "code",
   "execution_count": 37,
   "metadata": {
    "editable": true
   },
   "outputs": [],
   "source": [
    "from pyspark.sql.functions import upper, col"
   ]
  },
  {
   "cell_type": "code",
   "execution_count": 38,
   "metadata": {
    "editable": true
   },
   "outputs": [
    {
     "name": "stdout",
     "output_type": "stream",
     "text": [
      "+----------------+--------------+------------+--------------------+------+----------+---------------+-----------------+----------------+------------------+----------------------+\n",
      "|            City|         State|Foreign-born|                Race| Count|Median_Age|Male_Population|Female_Population|Total_Population|Number_of_Veterans|Average_Household_Size|\n",
      "+----------------+--------------+------------+--------------------+------+----------+---------------+-----------------+----------------+------------------+----------------------+\n",
      "|   SILVER SPRING|      MARYLAND|       30908|  Hispanic or Latino| 25924|      33.8|          40601|            41862|           82463|              1562|                   2.6|\n",
      "|          QUINCY| MASSACHUSETTS|       32935|               White| 58723|      41.0|          44129|            49500|           93629|              4147|                  2.39|\n",
      "|          HOOVER|       ALABAMA|        8229|               Asian|  4759|      38.5|          38040|            46799|           84839|              4819|                  2.58|\n",
      "|RANCHO CUCAMONGA|    CALIFORNIA|       33878|Black or African-...| 24437|      34.5|          88127|            87105|          175232|              5821|                  3.18|\n",
      "|          NEWARK|    NEW JERSEY|       86253|               White| 76402|      34.6|         138040|           143873|          281913|              5829|                  2.73|\n",
      "|          PEORIA|      ILLINOIS|        7517|American Indian a...|  1343|      33.1|          56229|            62432|          118661|              6634|                   2.4|\n",
      "|        AVONDALE|       ARIZONA|        8355|Black or African-...| 11592|      29.1|          38712|            41971|           80683|              4815|                  3.18|\n",
      "|     WEST COVINA|    CALIFORNIA|       37038|               Asian| 32716|      39.8|          51629|            56860|          108489|              3800|                  3.56|\n",
      "|        O'FALLON|      MISSOURI|        3269|  Hispanic or Latino|  2583|      36.0|          41762|            43270|           85032|              5783|                  2.77|\n",
      "|      HIGH POINT|NORTH CAROLINA|       16315|               Asian| 11060|      35.5|          51751|            58077|          109828|              5204|                  2.65|\n",
      "|          FOLSOM|    CALIFORNIA|       13234|  Hispanic or Latino|  5822|      40.9|          41051|            35317|           76368|              4187|                  2.62|\n",
      "|          FOLSOM|    CALIFORNIA|       13234|American Indian a...|   998|      40.9|          41051|            35317|           76368|              4187|                  2.62|\n",
      "|    PHILADELPHIA|  PENNSYLVANIA|      205339|               Asian|122721|      34.1|         741270|           826172|         1567442|             61995|                  2.61|\n",
      "|         WICHITA|        KANSAS|       40270|  Hispanic or Latino| 65162|      34.6|         192354|           197601|          389955|             23978|                  2.56|\n",
      "|         WICHITA|        KANSAS|       40270|American Indian a...|  8791|      34.6|         192354|           197601|          389955|             23978|                  2.56|\n",
      "|      FORT MYERS|       FLORIDA|       15365|               White| 50169|      37.3|          36850|            37165|           74015|              4312|                  2.45|\n",
      "|      PITTSBURGH|  PENNSYLVANIA|       28187|               White|208863|      32.9|         149690|           154695|          304385|             17728|                  2.13|\n",
      "|          LAREDO|         TEXAS|       68427|American Indian a...|  1253|      28.8|         124305|           131484|          255789|              4921|                  3.66|\n",
      "|        BERKELEY|    CALIFORNIA|       25000|               Asian| 27089|      32.5|          60142|            60829|          120971|              3736|                  2.35|\n",
      "|     SANTA CLARA|    CALIFORNIA|       52281|               White| 55847|      35.2|          63278|            62938|          126216|              4426|                  2.75|\n",
      "+----------------+--------------+------------+--------------------+------+----------+---------------+-----------------+----------------+------------------+----------------------+\n",
      "only showing top 20 rows\n",
      "\n",
      "root\n",
      " |-- City: string (nullable = true)\n",
      " |-- State: string (nullable = true)\n",
      " |-- Foreign-born: integer (nullable = true)\n",
      " |-- Race: string (nullable = true)\n",
      " |-- Count: integer (nullable = true)\n",
      " |-- Median_Age: double (nullable = true)\n",
      " |-- Male_Population: integer (nullable = true)\n",
      " |-- Female_Population: integer (nullable = true)\n",
      " |-- Total_Population: integer (nullable = true)\n",
      " |-- Number_of_Veterans: integer (nullable = true)\n",
      " |-- Average_Household_Size: double (nullable = true)\n",
      "\n"
     ]
    }
   ],
   "source": [
    "us_cities_demog_df = spark.read.options(delimiter = ';').option(\"header\", True).csv('us-cities-demographics.csv')\n",
    "\n",
    "city_dem_df = us_cities_demog_df.withColumn('Median_Age', us_cities_demog_df['Median Age'].cast(DoubleType()))\\\n",
    "                                .withColumn('City', upper(col('City')))\\\n",
    "                                .withColumn('State', upper(col('State')))\\\n",
    "                                .withColumn('Male_Population', us_cities_demog_df['Male Population'].cast(IntegerType()))\\\n",
    "                                .withColumn('Female_Population', us_cities_demog_df['Female Population'].cast(IntegerType()))\\\n",
    "                                .withColumn('Total_Population', us_cities_demog_df['Total Population'].cast(IntegerType()))\\\n",
    "                                .withColumn('Number_of_Veterans', us_cities_demog_df['Number of Veterans'].cast(IntegerType()))\\\n",
    "                                .withColumn('Foreign-born', us_cities_demog_df['Foreign-born'].cast(IntegerType()))\\\n",
    "                                .withColumn('Average_Household_Size', us_cities_demog_df['Average Household Size'].cast(DoubleType()))\\\n",
    "                                .withColumn('Count', us_cities_demog_df['Count'].cast(IntegerType()))\\\n",
    "                                .drop('Median Age')\\\n",
    "                                .drop('Male Population')\\\n",
    "                                .drop('Female Population')\\\n",
    "                                .drop('Total Population')\\\n",
    "                                .drop('Number of Veterans')\\\n",
    "                                .drop('Average Household Size')\\\n",
    "                                .drop('State Code')\n",
    "\n",
    "city_dem_df.show()\n",
    "city_dem_df.printSchema()"
   ]
  },
  {
   "cell_type": "code",
   "execution_count": null,
   "metadata": {
    "editable": true
   },
   "outputs": [],
   "source": []
  },
  {
   "cell_type": "code",
   "execution_count": 39,
   "metadata": {
    "editable": true
   },
   "outputs": [],
   "source": [
    "# state_df_final.write.mode(\"overwrite\").parquet(path=\"./state_table.parquet\")\n",
    "\n",
    "# state_df_final.write.mode(\"overwrite\").parquet(path='s3://capstonebucket1743/test1/')"
   ]
  },
  {
   "cell_type": "code",
   "execution_count": 40,
   "metadata": {
    "editable": true
   },
   "outputs": [],
   "source": [
    "# city_dem_df.write.mode(\"overwrite\").parquet(path=\"./city_dem_table.parquet\")"
   ]
  },
  {
   "cell_type": "code",
   "execution_count": 41,
   "metadata": {
    "editable": true
   },
   "outputs": [],
   "source": [
    "# us_port_df.write.mode(\"overwrite\").parquet(path=\"./us_port_table.parquet\")"
   ]
  },
  {
   "cell_type": "code",
   "execution_count": 42,
   "metadata": {
    "editable": true
   },
   "outputs": [],
   "source": [
    "# airport_df_final.write.mode(\"overwrite\").parquet(path=\"./airport_table.parquet\")"
   ]
  },
  {
   "cell_type": "code",
   "execution_count": 43,
   "metadata": {
    "editable": true
   },
   "outputs": [],
   "source": [
    "# country_df_final.write.mode(\"overwrite\").parquet(path=\"./country_table.parquet\")"
   ]
  },
  {
   "cell_type": "code",
   "execution_count": 44,
   "metadata": {
    "editable": true
   },
   "outputs": [],
   "source": [
    "# imm_df_final.write.mode(\"overwrite\").parquet(path=\"./immigration_table.parquet\")"
   ]
  },
  {
   "cell_type": "code",
   "execution_count": 45,
   "metadata": {
    "editable": true
   },
   "outputs": [],
   "source": [
    "state_df_final.createOrReplaceTempView('state_stage')\n",
    "city_dem_df.createOrReplaceTempView('city_stage')\n",
    "us_port_df.createOrReplaceTempView('port_stage')\n",
    "airport_df_final.createOrReplaceTempView('airport_stage')\n",
    "country_df_final.createOrReplaceTempView('country_stage')\n",
    "imm_df_final.createOrReplaceTempView('imm_stage')"
   ]
  },
  {
   "cell_type": "code",
   "execution_count": 46,
   "metadata": {
    "editable": true
   },
   "outputs": [
    {
     "name": "stdout",
     "output_type": "stream",
     "text": [
      "+----------+----------+\n",
      "|state_code|state_name|\n",
      "+----------+----------+\n",
      "|        AL|   ALABAMA|\n",
      "|        AK|    ALASKA|\n",
      "|        AZ|   ARIZONA|\n",
      "|        AR|  ARKANSAS|\n",
      "|        CA|CALIFORNIA|\n",
      "+----------+----------+\n",
      "only showing top 5 rows\n",
      "\n",
      "+----------------+-------------+------------+--------------------+-----+----------+---------------+-----------------+----------------+------------------+----------------------+\n",
      "|            City|        State|Foreign-born|                Race|Count|Median_Age|Male_Population|Female_Population|Total_Population|Number_of_Veterans|Average_Household_Size|\n",
      "+----------------+-------------+------------+--------------------+-----+----------+---------------+-----------------+----------------+------------------+----------------------+\n",
      "|   SILVER SPRING|     MARYLAND|       30908|  Hispanic or Latino|25924|      33.8|          40601|            41862|           82463|              1562|                   2.6|\n",
      "|          QUINCY|MASSACHUSETTS|       32935|               White|58723|      41.0|          44129|            49500|           93629|              4147|                  2.39|\n",
      "|          HOOVER|      ALABAMA|        8229|               Asian| 4759|      38.5|          38040|            46799|           84839|              4819|                  2.58|\n",
      "|RANCHO CUCAMONGA|   CALIFORNIA|       33878|Black or African-...|24437|      34.5|          88127|            87105|          175232|              5821|                  3.18|\n",
      "|          NEWARK|   NEW JERSEY|       86253|               White|76402|      34.6|         138040|           143873|          281913|              5829|                  2.73|\n",
      "+----------------+-------------+------------+--------------------+-----+----------+---------------+-----------------+----------------+------------------+----------------------+\n",
      "only showing top 5 rows\n",
      "\n",
      "+---------+--------------------+----------+----------+\n",
      "|port_code|           port_name|state_code|extra_info|\n",
      "+---------+--------------------+----------+----------+\n",
      "|      ALC|               ALCAN|        AK|      null|\n",
      "|      ANC|           ANCHORAGE|        AK|      null|\n",
      "|      BAR|BAKER AAF - BAKER...|        AK|      null|\n",
      "|      DAC|       DALTONS CACHE|        AK|      null|\n",
      "|      PIZ|DEW STATION PT LA...|        AK|      null|\n",
      "+---------+--------------------+----------+----------+\n",
      "only showing top 5 rows\n",
      "\n",
      "+-----+-------------+--------------------+------------+------------+--------+---------+----------+--------------------+----------+\n",
      "|ident|         type|                name|elevation_ft|municipality|gps_code|iata_code|local_code|         coordinates|state_code|\n",
      "+-----+-------------+--------------------+------------+------------+--------+---------+----------+--------------------+----------+\n",
      "|  00A|     heliport|   Total Rf Heliport|          11|    Bensalem|     00A|     null|       00A|-74.9336013793945...|        PA|\n",
      "| 00AA|small_airport|Aero B Ranch Airport|        3435|       Leoti|    00AA|     null|      00AA|-101.473911, 38.7...|        KS|\n",
      "| 00AK|small_airport|        Lowell Field|         450|Anchor Point|    00AK|     null|      00AK|-151.695999146, 5...|        AK|\n",
      "| 00AL|small_airport|        Epps Airpark|         820|     Harvest|    00AL|     null|      00AL|-86.7703018188476...|        AL|\n",
      "| 00AR|       closed|Newport Hospital ...|         237|     Newport|    null|     null|      null| -91.254898, 35.6087|        AR|\n",
      "+-----+-------------+--------------------+------------+------------+--------+---------+----------+--------------------+----------+\n",
      "only showing top 5 rows\n",
      "\n",
      "+------------+--------------------+\n",
      "|country_code|             country|\n",
      "+------------+--------------------+\n",
      "|         582|MEXICO Air Sea, a...|\n",
      "|         236|         AFGHANISTAN|\n",
      "|         101|             ALBANIA|\n",
      "|         316|             ALGERIA|\n",
      "|         102|             ANDORRA|\n",
      "+------------+--------------------+\n",
      "only showing top 5 rows\n",
      "\n",
      "+-------+----+-----+-------------+-------------+-------------+------------+---------------+-------------+--------------+---+----+------------+--------------+----------+----------+----------+------+----------------+----------------+-------------+---------+\n",
      "|  cicid|year|month|country_code1|country_code2|port_of_entry|arrival_date|mode_of_arrival|state_or_terr|departure_date|age|VISA|arrival_flag|departure_flag|match_flag|birth_year|date_added|gender|incoming_airline|admission_number|flight_number|visa_type|\n",
      "+-------+----+-----+-------------+-------------+-------------+------------+---------------+-------------+--------------+---+----+------------+--------------+----------+----------+----------+------+----------------+----------------+-------------+---------+\n",
      "|5748517|2016|    4|          245|          438|          LOS|  2016-04-30|              1|           CA|    2016-05-08| 40|   1|           G|             O|         M|      1976|2016-10-29|     F|              QF|  9.495387003E10|        00011|       B1|\n",
      "|5748518|2016|    4|          245|          438|          LOS|  2016-04-30|              1|           NV|    2016-05-17| 32|   1|           G|             O|         M|      1984|2016-10-29|     F|              VA|  9.495562283E10|        00007|       B1|\n",
      "|5748519|2016|    4|          245|          438|          LOS|  2016-04-30|              1|           WA|    2016-05-08| 29|   1|           G|             O|         M|      1987|2016-10-29|     M|              DL|  9.495640653E10|        00040|       B1|\n",
      "|5748520|2016|    4|          245|          438|          LOS|  2016-04-30|              1|           WA|    2016-05-14| 29|   1|           G|             O|         M|      1987|2016-10-29|     F|              DL|  9.495645143E10|        00040|       B1|\n",
      "|5748521|2016|    4|          245|          438|          LOS|  2016-04-30|              1|           WA|    2016-05-14| 28|   1|           G|             O|         M|      1988|2016-10-29|     M|              DL|  9.495638813E10|        00040|       B1|\n",
      "+-------+----+-----+-------------+-------------+-------------+------------+---------------+-------------+--------------+---+----+------------+--------------+----------+----------+----------+------+----------------+----------------+-------------+---------+\n",
      "only showing top 5 rows\n",
      "\n"
     ]
    }
   ],
   "source": [
    "state_df_final.show(5)\n",
    "city_dem_df.show(5)\n",
    "us_port_df.show(5)\n",
    "airport_df_final.show(5)\n",
    "country_df_final.show(5)\n",
    "imm_df_final.show(5)"
   ]
  },
  {
   "cell_type": "code",
   "execution_count": 47,
   "metadata": {
    "editable": true
   },
   "outputs": [],
   "source": [
    "data_model2 = spark.sql(\"SELECT SUM(`Foreign-born`) AS total_foreign_born, City \\\n",
    "                         FROM city_stage \\\n",
    "                         GROUP BY City \\\n",
    "                         ORDER BY total_foreign_born DESC\")"
   ]
  },
  {
   "cell_type": "code",
   "execution_count": 54,
   "metadata": {
    "editable": true
   },
   "outputs": [
    {
     "name": "stdout",
     "output_type": "stream",
     "text": [
      "+------------------+-------------+\n",
      "|total_foreign_born|         City|\n",
      "+------------------+-------------+\n",
      "|          16062500|     NEW YORK|\n",
      "|           7427125|  LOS ANGELES|\n",
      "|           3481050|      HOUSTON|\n",
      "|           2867315|      CHICAGO|\n",
      "|           2007465|     SAN JOSE|\n",
      "|           1869210|    SAN DIEGO|\n",
      "|           1634125|       DALLAS|\n",
      "|           1503510|      PHOENIX|\n",
      "|           1485995|SAN FRANCISCO|\n",
      "|           1303945|        MIAMI|\n",
      "|           1040230|  SAN ANTONIO|\n",
      "|           1026695| PHILADELPHIA|\n",
      "|            950615|       BOSTON|\n",
      "|            908430|       AUSTIN|\n",
      "|            798545|      EL PASO|\n",
      "|            778215|     GLENDALE|\n",
      "|            764995|    SANTA ANA|\n",
      "|            717020|   FORT WORTH|\n",
      "|            685665|      ANAHEIM|\n",
      "|            680592|      HIALEAH|\n",
      "+------------------+-------------+\n",
      "only showing top 20 rows\n",
      "\n"
     ]
    }
   ],
   "source": [
    "data_model2.show(20)"
   ]
  },
  {
   "cell_type": "code",
   "execution_count": 55,
   "metadata": {
    "editable": true
   },
   "outputs": [],
   "source": [
    "data_model = spark.sql(\"SELECT COUNT(*) AS num_im_thru_port, p.port_name  \\\n",
    "                        FROM imm_stage i JOIN port_stage p ON i.port_of_entry = p.port_code \\\n",
    "                        GROUP BY p.port_name \\\n",
    "                        ORDER BY num_im_thru_port DESC\") "
   ]
  },
  {
   "cell_type": "code",
   "execution_count": 56,
   "metadata": {
    "editable": true
   },
   "outputs": [
    {
     "name": "stdout",
     "output_type": "stream",
     "text": [
      "+----------------+----------------+\n",
      "|num_im_thru_port|       port_name|\n",
      "+----------------+----------------+\n",
      "|          485916|        NEW YORK|\n",
      "|          343941|           MIAMI|\n",
      "|          310163|     LOS ANGELES|\n",
      "|          152586|   SAN FRANCISCO|\n",
      "|          149195|         ORLANDO|\n",
      "|          142720|        HONOLULU|\n",
      "|          136122|NEWARK/TETERBORO|\n",
      "|          130564|         CHICAGO|\n",
      "|          101481|         HOUSTON|\n",
      "|           95977| FORT LAUDERDALE|\n",
      "|           92579|         ATLANTA|\n",
      "|           89280|       LAS VEGAS|\n",
      "|           80919|           AGANA|\n",
      "|           74835|   WASHINGTON DC|\n",
      "|           71809|          DALLAS|\n",
      "|           57354|          BOSTON|\n",
      "|           47719|         SEATTLE|\n",
      "|           38890|         PHOENIX|\n",
      "|           37832|         DETROIT|\n",
      "|           25632|           TAMPA|\n",
      "+----------------+----------------+\n",
      "only showing top 20 rows\n",
      "\n"
     ]
    }
   ],
   "source": [
    "data_model.show(20)"
   ]
  },
  {
   "cell_type": "code",
   "execution_count": 62,
   "metadata": {
    "editable": true
   },
   "outputs": [],
   "source": [
    "data_model3 = spark.sql(\"WITH table1 AS (SELECT SUM(`Foreign-born`) AS total_foreign_born, City FROM city_stage GROUP BY City), \\\n",
    "                               table2 AS (SELECT COUNT(*) AS num_im_thru_port, p.port_name \\\n",
    "                               FROM imm_stage i JOIN port_stage p ON i.port_of_entry = p.port_code \\\n",
    "                               GROUP BY p.port_name ORDER BY num_im_thru_port DESC)\\\n",
    "                               SELECT table1.total_foreign_born, table1.City, table2.num_im_thru_port, CAST(((table2.num_im_thru_port/(3096313)) * 100) AS DECIMAL(5, 2)) AS percent_im \\\n",
    "                               FROM table1 JOIN table2 ON table1.City = table2.port_name \\\n",
    "                               ORDER BY 1 DESC\")"
   ]
  },
  {
   "cell_type": "code",
   "execution_count": 63,
   "metadata": {
    "editable": true
   },
   "outputs": [
    {
     "name": "stdout",
     "output_type": "stream",
     "text": [
      "+------------------+-------------+----------------+----------+\n",
      "|total_foreign_born|         City|num_im_thru_port|percent_im|\n",
      "+------------------+-------------+----------------+----------+\n",
      "|          16062500|     NEW YORK|          485916|     15.69|\n",
      "|           7427125|  LOS ANGELES|          310163|     10.02|\n",
      "|           3481050|      HOUSTON|          101481|      3.28|\n",
      "|           2867315|      CHICAGO|          130564|      4.22|\n",
      "|           2007465|     SAN JOSE|            4490|      0.15|\n",
      "|           1869210|    SAN DIEGO|           10944|      0.35|\n",
      "|           1634125|       DALLAS|           71809|      2.32|\n",
      "|           1503510|      PHOENIX|           38890|      1.26|\n",
      "|           1485995|SAN FRANCISCO|          152586|      4.93|\n",
      "|           1303945|        MIAMI|          343941|     11.11|\n",
      "|           1040230|  SAN ANTONIO|            7066|      0.23|\n",
      "|           1026695| PHILADELPHIA|           24973|      0.81|\n",
      "|            950615|       BOSTON|           57354|      1.85|\n",
      "|            908430|       AUSTIN|            3034|      0.10|\n",
      "|            798545|      EL PASO|             165|      0.01|\n",
      "|            764995|    SANTA ANA|            1625|      0.05|\n",
      "|            644485|    CHARLOTTE|           16228|      0.52|\n",
      "|            638820|   LONG BEACH|             884|      0.03|\n",
      "|            638045|    LAS VEGAS|           89280|      2.88|\n",
      "|            599200|      SEATTLE|           47719|      1.54|\n",
      "+------------------+-------------+----------------+----------+\n",
      "only showing top 20 rows\n",
      "\n"
     ]
    }
   ],
   "source": [
    "data_model3.show()"
   ]
  },
  {
   "cell_type": "code",
   "execution_count": 53,
   "metadata": {
    "editable": true
   },
   "outputs": [],
   "source": [
    "# spark.stop()"
   ]
  },
  {
   "cell_type": "code",
   "execution_count": null,
   "metadata": {
    "editable": true
   },
   "outputs": [],
   "source": []
  }
 ],
 "metadata": {
  "kernelspec": {
   "display_name": "Python 3",
   "language": "python",
   "name": "python3"
  },
  "language_info": {
   "codemirror_mode": {
    "name": "ipython",
    "version": 3
   },
   "file_extension": ".py",
   "mimetype": "text/x-python",
   "name": "python",
   "nbconvert_exporter": "python",
   "pygments_lexer": "ipython3",
   "version": "3.6.3"
  }
 },
 "nbformat": 4,
 "nbformat_minor": 4
}
